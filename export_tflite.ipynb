{
 "metadata": {
  "language_info": {
   "codemirror_mode": {
    "name": "ipython",
    "version": 3
   },
   "file_extension": ".py",
   "mimetype": "text/x-python",
   "name": "python",
   "nbconvert_exporter": "python",
   "pygments_lexer": "ipython3",
   "version": 3
  },
  "orig_nbformat": 2
 },
 "nbformat": 4,
 "nbformat_minor": 2,
 "cells": [
  {
   "cell_type": "code",
   "execution_count": null,
   "metadata": {},
   "outputs": [],
   "source": [
    "# Install TF object detection API\n",
    "!apt-get install protobuf-compiler python-pil python-lxml python-tk\n",
    "!pip install Cython tf_slim\n",
    "!git clone https://github.com/tensorflow/models.git\n",
    "\n",
    "%cd /content/models/research\n",
    "!protoc object_detection/protos/*.proto --python_out=.\n",
    "%set_env PYTHONPATH=/content/models/research:/content/models/research/slim\n",
    "\n",
    "import os\n",
    "os.environ['PYTHONPATH'] += \":/content/models\"\n",
    "\n",
    "import sys\n",
    "sys.path.append(\"/content/models\")\n",
    "!python object_detection/builders/model_builder_test.py"
   ]
  },
  {
   "cell_type": "code",
   "execution_count": null,
   "metadata": {},
   "outputs": [],
   "source": [
    "# Connect Google Drive in order to save data (if reload colab session, all data would be lost)\n",
    "from google.colab import drive\n",
    "drive.mount('/content/drive', force_remount=True)"
   ]
  },
  {
   "cell_type": "code",
   "execution_count": null,
   "metadata": {},
   "outputs": [],
   "source": [
    "# Set tensorflow version to 1.15 \n",
    "%tensorflow_version 1.x"
   ]
  },
  {
   "cell_type": "code",
   "execution_count": null,
   "metadata": {},
   "outputs": [],
   "source": [
    "# Creating TensorFlow frozen graph with compatible ops that can be used with TensorFlow lite\n",
    "!python object_detection/export_tflite_ssd_graph.py \\\n",
    "    --pipeline_config_path='/content/drive/MyDrive/bagchair/models/ssd_mobilenet_v2_coco_2018_03_29/pipeline.config' \\\n",
    "    --trained_checkpoint_prefix='/content/drive/MyDrive/bagchair/out/model.ckpt-68252' \\\n",
    "    --output_directory='/content/drive/MyDrive/bagchair/frozen_tflite' \\\n",
    "    --add_postprocessing_op=true"
   ]
  },
  {
   "cell_type": "code",
   "execution_count": null,
   "metadata": {},
   "outputs": [],
   "source": [
    "# Create .tflite file\n",
    "!tflite_convert \\\n",
    "    --graph_def_file='/content/drive/MyDrive/bagchair/frozen_tflite/tflite_graph.pb' \\\n",
    "    --output_file='/content/drive/MyDrive/bagchair/frozen_tflite/detect.tflite' \\\n",
    "    --output_format=TFLITE \\\n",
    "    --input_shapes=1,300,300,3 \\\n",
    "    --input_arrays=normalized_input_image_tensor \\\n",
    "    --output_arrays='TFLite_Detection_PostProcess','TFLite_Detection_PostProcess:1','TFLite_Detection_PostProcess:2','TFLite_Detection_PostProcess:3'  \\\n",
    "    --inference_type=FLOAT \\\n",
    "    --mean_values=128 \\\n",
    "    --std_dev_values=127 \\\n",
    "    --change_concat_input_ranges=false \\\n",
    "    --allow_custom_ops"
   ]
  }
 ]
}